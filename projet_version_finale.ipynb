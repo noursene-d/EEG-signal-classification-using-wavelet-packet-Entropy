{
 "cells": [
  {
   "cell_type": "code",
   "execution_count": 467,
   "id": "a78dd55d-1553-4e4c-a1ef-e3325d8c772a",
   "metadata": {},
   "outputs": [],
   "source": [
    "import os\n",
    "import numpy as np\n",
    "import pandas as pd"
   ]
  },
  {
   "cell_type": "markdown",
   "id": "063b8b33-409e-4e2d-879d-8828bc6fbac3",
   "metadata": {},
   "source": [
    "## 1. Data Pre-processing"
   ]
  },
  {
   "cell_type": "markdown",
   "metadata": {},
   "source": [
    "Initialize the dataset"
   ]
  },
  {
   "cell_type": "code",
   "execution_count": 468,
   "id": "7622fcef-0a91-4acf-81b3-1d83a5678a65",
   "metadata": {},
   "outputs": [],
   "source": [
    "data_directory = \"nouv\"\n",
    "class_data = {}"
   ]
  },
  {
   "cell_type": "markdown",
   "metadata": {},
   "source": [
    "Create a DataFrame that will contain the signals and their respective classes"
   ]
  },
  {
   "cell_type": "code",
   "execution_count": 469,
   "id": "1949c506-ce7e-481d-98f5-3f6e1da5cb13",
   "metadata": {},
   "outputs": [],
   "source": [
    "classes = {\"F\": \"A\", \"N\": \"B\", \"O\": \"C\", \"Z\": \"D\", \"S\": \"E\"}\n",
    "all_data = pd.DataFrame()\n",
    "\n",
    "for class_name, label in classes.items():\n",
    "    class_data = {'signal': [], 'class': label}\n",
    "    class_folder_path = os.path.join(data_directory, class_name)\n",
    "    for file_number in range(1, 101):\n",
    "        file_name = f'{class_name}{str(file_number).zfill(3)}.txt'\n",
    "        file_path = os.path.join(class_folder_path, file_name)\n",
    "        data_array = np.loadtxt(file_path)\n",
    "        normalized_data = data_array / np.max(data_array)\n",
    "        class_data['signal'].append(normalized_data)\n",
    "    class_df = pd.DataFrame.from_dict(class_data)\n",
    "    all_data = pd.concat([all_data, class_df], ignore_index=True)"
   ]
  },
  {
   "cell_type": "code",
   "execution_count": 470,
   "id": "8be4081f-3fd2-4fb8-9943-1e4f13da6654",
   "metadata": {},
   "outputs": [
    {
     "data": {
      "text/plain": [
       "(500, 2)"
      ]
     },
     "execution_count": 470,
     "metadata": {},
     "output_type": "execute_result"
    }
   ],
   "source": [
    "all_data.shape"
   ]
  },
  {
   "cell_type": "code",
   "execution_count": 471,
   "id": "396b2303-0e96-40a8-b9ba-c15511493a1d",
   "metadata": {},
   "outputs": [
    {
     "data": {
      "text/html": [
       "<div>\n",
       "<style scoped>\n",
       "    .dataframe tbody tr th:only-of-type {\n",
       "        vertical-align: middle;\n",
       "    }\n",
       "\n",
       "    .dataframe tbody tr th {\n",
       "        vertical-align: top;\n",
       "    }\n",
       "\n",
       "    .dataframe thead th {\n",
       "        text-align: right;\n",
       "    }\n",
       "</style>\n",
       "<table border=\"1\" class=\"dataframe\">\n",
       "  <thead>\n",
       "    <tr style=\"text-align: right;\">\n",
       "      <th></th>\n",
       "      <th>signal</th>\n",
       "      <th>class</th>\n",
       "    </tr>\n",
       "  </thead>\n",
       "  <tbody>\n",
       "    <tr>\n",
       "      <th>463</th>\n",
       "      <td>[0.05945945945945946, -0.1810810810810811, -0....</td>\n",
       "      <td>E</td>\n",
       "    </tr>\n",
       "    <tr>\n",
       "      <th>108</th>\n",
       "      <td>[0.2642857142857143, 0.32857142857142857, 0.33...</td>\n",
       "      <td>B</td>\n",
       "    </tr>\n",
       "    <tr>\n",
       "      <th>453</th>\n",
       "      <td>[0.17845659163987138, 0.18006430868167203, 0.2...</td>\n",
       "      <td>E</td>\n",
       "    </tr>\n",
       "    <tr>\n",
       "      <th>332</th>\n",
       "      <td>[-0.10236220472440945, -0.1141732283464567, -0...</td>\n",
       "      <td>D</td>\n",
       "    </tr>\n",
       "    <tr>\n",
       "      <th>115</th>\n",
       "      <td>[0.26174496644295303, 0.2348993288590604, 0.23...</td>\n",
       "      <td>B</td>\n",
       "    </tr>\n",
       "    <tr>\n",
       "      <th>47</th>\n",
       "      <td>[0.22549019607843138, 0.29411764705882354, 0.3...</td>\n",
       "      <td>A</td>\n",
       "    </tr>\n",
       "    <tr>\n",
       "      <th>483</th>\n",
       "      <td>[-0.04678362573099415, -0.056530214424951264, ...</td>\n",
       "      <td>E</td>\n",
       "    </tr>\n",
       "    <tr>\n",
       "      <th>0</th>\n",
       "      <td>[0.2764227642276423, 0.2682926829268293, 0.227...</td>\n",
       "      <td>A</td>\n",
       "    </tr>\n",
       "    <tr>\n",
       "      <th>240</th>\n",
       "      <td>[0.23055555555555557, 0.25, 0.1722222222222222...</td>\n",
       "      <td>C</td>\n",
       "    </tr>\n",
       "    <tr>\n",
       "      <th>310</th>\n",
       "      <td>[0.10294117647058823, 0.18382352941176472, 0.2...</td>\n",
       "      <td>D</td>\n",
       "    </tr>\n",
       "  </tbody>\n",
       "</table>\n",
       "</div>"
      ],
      "text/plain": [
       "                                                signal class\n",
       "463  [0.05945945945945946, -0.1810810810810811, -0....     E\n",
       "108  [0.2642857142857143, 0.32857142857142857, 0.33...     B\n",
       "453  [0.17845659163987138, 0.18006430868167203, 0.2...     E\n",
       "332  [-0.10236220472440945, -0.1141732283464567, -0...     D\n",
       "115  [0.26174496644295303, 0.2348993288590604, 0.23...     B\n",
       "47   [0.22549019607843138, 0.29411764705882354, 0.3...     A\n",
       "483  [-0.04678362573099415, -0.056530214424951264, ...     E\n",
       "0    [0.2764227642276423, 0.2682926829268293, 0.227...     A\n",
       "240  [0.23055555555555557, 0.25, 0.1722222222222222...     C\n",
       "310  [0.10294117647058823, 0.18382352941176472, 0.2...     D"
      ]
     },
     "execution_count": 471,
     "metadata": {},
     "output_type": "execute_result"
    }
   ],
   "source": [
    "all_data.sample(10)"
   ]
  },
  {
   "cell_type": "markdown",
   "metadata": {},
   "source": [
    "Copy the obtained dataframe to experiment on the new one"
   ]
  },
  {
   "cell_type": "code",
   "execution_count": 472,
   "id": "117387b6-2efd-4725-8d3b-051567bb1213",
   "metadata": {},
   "outputs": [],
   "source": [
    "df = all_data.copy()"
   ]
  },
  {
   "cell_type": "markdown",
   "id": "e2e4f640-fbf6-4ed5-9940-49e92418ec02",
   "metadata": {},
   "source": [
    "## Feature Extraction"
   ]
  },
  {
   "cell_type": "code",
   "execution_count": 473,
   "id": "e844d26b-d0b0-414f-89d2-3d3dd74294ce",
   "metadata": {},
   "outputs": [],
   "source": [
    "import pywt\n",
    "from scipy.stats import entropy"
   ]
  },
  {
   "cell_type": "markdown",
   "metadata": {},
   "source": [
    "We will use Multilevel wavelet packet Entropy (MWE) for feature extraction as indicated in the paper "
   ]
  },
  {
   "cell_type": "code",
   "execution_count": 474,
   "id": "53f3dbe7-5181-44e2-8f6c-ee1fbf659586",
   "metadata": {},
   "outputs": [],
   "source": [
    "def multilevel_wavelet_packet_entropy(signal, wavelet='bior1.5', levels=5):\n",
    "    coeffs = pywt.wavedec(signal, wavelet, level=levels)\n",
    "    entropy_per_level = []\n",
    "    for level in range(levels + 1): \n",
    "        coefficients_at_level = [coeff for i, coeff in enumerate(coeffs) if i == level or i == levels - level]\n",
    "        energy_at_level = [np.sum(np.square(coeff)) for coeff in coefficients_at_level]\n",
    "        normalized_energy_at_level = energy_at_level / np.sum(energy_at_level)\n",
    "        entropy_at_level =float(-np.sum(np.nan_to_num(normalized_energy_at_level) * np.log2(np.nan_to_num(normalized_energy_at_level))))\n",
    "        entropy_per_level.append(entropy_at_level)\n",
    "    #return np.array(entropy_per_level)\n",
    "    return entropy_per_level"
   ]
  },
  {
   "cell_type": "markdown",
   "metadata": {},
   "source": [
    "Create a column in our dataframe that will contain the MWE for every signal"
   ]
  },
  {
   "cell_type": "code",
   "execution_count": 475,
   "id": "fa68b1ee-6022-4a61-bbec-ecd1feba40ea",
   "metadata": {},
   "outputs": [],
   "source": [
    "for i in range(500):\n",
    "    list_ = multilevel_wavelet_packet_entropy(df['signal'][i])\n",
    "    for j in range(5):\n",
    "        df.at[i,'WPE'+str(j+1)] = list_[j]"
   ]
  },
  {
   "cell_type": "code",
   "execution_count": 476,
   "id": "12b61fc2-6827-40d7-b3af-d1359b2b59d5",
   "metadata": {},
   "outputs": [
    {
     "data": {
      "text/html": [
       "<div>\n",
       "<style scoped>\n",
       "    .dataframe tbody tr th:only-of-type {\n",
       "        vertical-align: middle;\n",
       "    }\n",
       "\n",
       "    .dataframe tbody tr th {\n",
       "        vertical-align: top;\n",
       "    }\n",
       "\n",
       "    .dataframe thead th {\n",
       "        text-align: right;\n",
       "    }\n",
       "</style>\n",
       "<table border=\"1\" class=\"dataframe\">\n",
       "  <thead>\n",
       "    <tr style=\"text-align: right;\">\n",
       "      <th></th>\n",
       "      <th>signal</th>\n",
       "      <th>class</th>\n",
       "      <th>WPE1</th>\n",
       "      <th>WPE2</th>\n",
       "      <th>WPE3</th>\n",
       "      <th>WPE4</th>\n",
       "      <th>WPE5</th>\n",
       "    </tr>\n",
       "  </thead>\n",
       "  <tbody>\n",
       "    <tr>\n",
       "      <th>470</th>\n",
       "      <td>[0.10409556313993173, 0.07167235494880546, 0.0...</td>\n",
       "      <td>E</td>\n",
       "      <td>0.128228</td>\n",
       "      <td>0.745956</td>\n",
       "      <td>0.980775</td>\n",
       "      <td>0.980775</td>\n",
       "      <td>0.745956</td>\n",
       "    </tr>\n",
       "    <tr>\n",
       "      <th>222</th>\n",
       "      <td>[0.03424657534246575, -0.2054794520547945, -0....</td>\n",
       "      <td>C</td>\n",
       "      <td>0.603374</td>\n",
       "      <td>0.932731</td>\n",
       "      <td>0.984286</td>\n",
       "      <td>0.984286</td>\n",
       "      <td>0.932731</td>\n",
       "    </tr>\n",
       "    <tr>\n",
       "      <th>458</th>\n",
       "      <td>[-0.3102100635075721, -0.2799218368343918, -0....</td>\n",
       "      <td>E</td>\n",
       "      <td>0.553985</td>\n",
       "      <td>0.593479</td>\n",
       "      <td>0.953994</td>\n",
       "      <td>0.953994</td>\n",
       "      <td>0.593479</td>\n",
       "    </tr>\n",
       "    <tr>\n",
       "      <th>164</th>\n",
       "      <td>[0.010309278350515464, -0.041237113402061855, ...</td>\n",
       "      <td>B</td>\n",
       "      <td>0.093251</td>\n",
       "      <td>0.462609</td>\n",
       "      <td>0.880427</td>\n",
       "      <td>0.880427</td>\n",
       "      <td>0.462609</td>\n",
       "    </tr>\n",
       "    <tr>\n",
       "      <th>175</th>\n",
       "      <td>[-0.49606299212598426, -0.5511811023622047, -0...</td>\n",
       "      <td>B</td>\n",
       "      <td>0.057168</td>\n",
       "      <td>0.506546</td>\n",
       "      <td>0.909134</td>\n",
       "      <td>0.909134</td>\n",
       "      <td>0.506546</td>\n",
       "    </tr>\n",
       "    <tr>\n",
       "      <th>313</th>\n",
       "      <td>[0.2, 0.16129032258064516, 0.10967741935483871...</td>\n",
       "      <td>D</td>\n",
       "      <td>0.159430</td>\n",
       "      <td>0.799535</td>\n",
       "      <td>0.992196</td>\n",
       "      <td>0.992196</td>\n",
       "      <td>0.799535</td>\n",
       "    </tr>\n",
       "    <tr>\n",
       "      <th>309</th>\n",
       "      <td>[-0.3360655737704918, -0.3114754098360656, -0....</td>\n",
       "      <td>D</td>\n",
       "      <td>0.114197</td>\n",
       "      <td>0.923152</td>\n",
       "      <td>0.998714</td>\n",
       "      <td>0.998714</td>\n",
       "      <td>0.923152</td>\n",
       "    </tr>\n",
       "    <tr>\n",
       "      <th>397</th>\n",
       "      <td>[-0.45132743362831856, -0.37168141592920356, -...</td>\n",
       "      <td>D</td>\n",
       "      <td>0.276219</td>\n",
       "      <td>0.996574</td>\n",
       "      <td>0.979109</td>\n",
       "      <td>0.979109</td>\n",
       "      <td>0.996574</td>\n",
       "    </tr>\n",
       "    <tr>\n",
       "      <th>387</th>\n",
       "      <td>[-0.006493506493506494, -0.07142857142857142, ...</td>\n",
       "      <td>D</td>\n",
       "      <td>0.348888</td>\n",
       "      <td>0.982231</td>\n",
       "      <td>0.999557</td>\n",
       "      <td>0.999557</td>\n",
       "      <td>0.982231</td>\n",
       "    </tr>\n",
       "    <tr>\n",
       "      <th>302</th>\n",
       "      <td>[-0.20108695652173914, -0.11956521739130435, -...</td>\n",
       "      <td>D</td>\n",
       "      <td>0.290748</td>\n",
       "      <td>0.940822</td>\n",
       "      <td>0.999999</td>\n",
       "      <td>0.999999</td>\n",
       "      <td>0.940822</td>\n",
       "    </tr>\n",
       "  </tbody>\n",
       "</table>\n",
       "</div>"
      ],
      "text/plain": [
       "                                                signal class      WPE1  \\\n",
       "470  [0.10409556313993173, 0.07167235494880546, 0.0...     E  0.128228   \n",
       "222  [0.03424657534246575, -0.2054794520547945, -0....     C  0.603374   \n",
       "458  [-0.3102100635075721, -0.2799218368343918, -0....     E  0.553985   \n",
       "164  [0.010309278350515464, -0.041237113402061855, ...     B  0.093251   \n",
       "175  [-0.49606299212598426, -0.5511811023622047, -0...     B  0.057168   \n",
       "313  [0.2, 0.16129032258064516, 0.10967741935483871...     D  0.159430   \n",
       "309  [-0.3360655737704918, -0.3114754098360656, -0....     D  0.114197   \n",
       "397  [-0.45132743362831856, -0.37168141592920356, -...     D  0.276219   \n",
       "387  [-0.006493506493506494, -0.07142857142857142, ...     D  0.348888   \n",
       "302  [-0.20108695652173914, -0.11956521739130435, -...     D  0.290748   \n",
       "\n",
       "         WPE2      WPE3      WPE4      WPE5  \n",
       "470  0.745956  0.980775  0.980775  0.745956  \n",
       "222  0.932731  0.984286  0.984286  0.932731  \n",
       "458  0.593479  0.953994  0.953994  0.593479  \n",
       "164  0.462609  0.880427  0.880427  0.462609  \n",
       "175  0.506546  0.909134  0.909134  0.506546  \n",
       "313  0.799535  0.992196  0.992196  0.799535  \n",
       "309  0.923152  0.998714  0.998714  0.923152  \n",
       "397  0.996574  0.979109  0.979109  0.996574  \n",
       "387  0.982231  0.999557  0.999557  0.982231  \n",
       "302  0.940822  0.999999  0.999999  0.940822  "
      ]
     },
     "execution_count": 476,
     "metadata": {},
     "output_type": "execute_result"
    }
   ],
   "source": [
    "df.sample(10)"
   ]
  },
  {
   "cell_type": "code",
   "execution_count": 477,
   "id": "e6604e74-ef91-4366-aa94-ff4fc430495f",
   "metadata": {},
   "outputs": [],
   "source": [
    "df = df.drop('signal', axis=1)"
   ]
  },
  {
   "cell_type": "code",
   "execution_count": 478,
   "id": "56e1c465-3d42-4450-922e-5e903d2e4047",
   "metadata": {},
   "outputs": [
    {
     "data": {
      "text/html": [
       "<div>\n",
       "<style scoped>\n",
       "    .dataframe tbody tr th:only-of-type {\n",
       "        vertical-align: middle;\n",
       "    }\n",
       "\n",
       "    .dataframe tbody tr th {\n",
       "        vertical-align: top;\n",
       "    }\n",
       "\n",
       "    .dataframe thead th {\n",
       "        text-align: right;\n",
       "    }\n",
       "</style>\n",
       "<table border=\"1\" class=\"dataframe\">\n",
       "  <thead>\n",
       "    <tr style=\"text-align: right;\">\n",
       "      <th></th>\n",
       "      <th>class</th>\n",
       "      <th>WPE1</th>\n",
       "      <th>WPE2</th>\n",
       "      <th>WPE3</th>\n",
       "      <th>WPE4</th>\n",
       "      <th>WPE5</th>\n",
       "    </tr>\n",
       "  </thead>\n",
       "  <tbody>\n",
       "    <tr>\n",
       "      <th>433</th>\n",
       "      <td>E</td>\n",
       "      <td>0.916027</td>\n",
       "      <td>0.955322</td>\n",
       "      <td>0.995599</td>\n",
       "      <td>0.995599</td>\n",
       "      <td>0.955322</td>\n",
       "    </tr>\n",
       "    <tr>\n",
       "      <th>284</th>\n",
       "      <td>C</td>\n",
       "      <td>0.772144</td>\n",
       "      <td>0.891474</td>\n",
       "      <td>0.836075</td>\n",
       "      <td>0.836075</td>\n",
       "      <td>0.891474</td>\n",
       "    </tr>\n",
       "    <tr>\n",
       "      <th>371</th>\n",
       "      <td>D</td>\n",
       "      <td>0.423279</td>\n",
       "      <td>0.999971</td>\n",
       "      <td>0.999020</td>\n",
       "      <td>0.999020</td>\n",
       "      <td>0.999971</td>\n",
       "    </tr>\n",
       "    <tr>\n",
       "      <th>261</th>\n",
       "      <td>C</td>\n",
       "      <td>0.157154</td>\n",
       "      <td>0.870840</td>\n",
       "      <td>0.918096</td>\n",
       "      <td>0.918096</td>\n",
       "      <td>0.870840</td>\n",
       "    </tr>\n",
       "    <tr>\n",
       "      <th>411</th>\n",
       "      <td>E</td>\n",
       "      <td>0.714691</td>\n",
       "      <td>0.668459</td>\n",
       "      <td>0.842336</td>\n",
       "      <td>0.842336</td>\n",
       "      <td>0.668459</td>\n",
       "    </tr>\n",
       "  </tbody>\n",
       "</table>\n",
       "</div>"
      ],
      "text/plain": [
       "    class      WPE1      WPE2      WPE3      WPE4      WPE5\n",
       "433     E  0.916027  0.955322  0.995599  0.995599  0.955322\n",
       "284     C  0.772144  0.891474  0.836075  0.836075  0.891474\n",
       "371     D  0.423279  0.999971  0.999020  0.999020  0.999971\n",
       "261     C  0.157154  0.870840  0.918096  0.918096  0.870840\n",
       "411     E  0.714691  0.668459  0.842336  0.842336  0.668459"
      ]
     },
     "execution_count": 478,
     "metadata": {},
     "output_type": "execute_result"
    }
   ],
   "source": [
    "df.sample(5)"
   ]
  },
  {
   "cell_type": "code",
   "execution_count": 479,
   "id": "759bc8b0-9547-47c0-9665-3860bd814881",
   "metadata": {},
   "outputs": [
    {
     "name": "stdout",
     "output_type": "stream",
     "text": [
      "(500, 5) (500,)\n"
     ]
    }
   ],
   "source": [
    "X = df.iloc[:,1:].values\n",
    "y = df.iloc[:,0].values\n",
    "\n",
    "print(X.shape, y.shape)"
   ]
  },
  {
   "cell_type": "code",
   "execution_count": 480,
   "id": "2a14b340-c0f8-4595-9126-840133e11614",
   "metadata": {},
   "outputs": [
    {
     "data": {
      "text/plain": [
       "array([[0.05764544, 0.46739005, 0.94184841, 0.94184841, 0.46739005],\n",
       "       [0.04917578, 0.50605985, 0.91503831, 0.91503831, 0.50605985],\n",
       "       [0.09391116, 0.67731773, 0.93233229, 0.93233229, 0.67731773],\n",
       "       ...,\n",
       "       [0.58885455, 0.90286743, 0.95341004, 0.95341004, 0.90286743],\n",
       "       [0.76571052, 0.99484558, 0.99927953, 0.99927953, 0.99484558],\n",
       "       [0.7409226 , 0.73940792, 0.9579845 , 0.9579845 , 0.73940792]])"
      ]
     },
     "execution_count": 480,
     "metadata": {},
     "output_type": "execute_result"
    }
   ],
   "source": [
    "X"
   ]
  },
  {
   "cell_type": "markdown",
   "metadata": {},
   "source": [
    "## Split the data and perform a Dimentionality Reduction"
   ]
  },
  {
   "cell_type": "code",
   "execution_count": 481,
   "id": "82e3ba86-8751-4d4a-b82a-4cff9061101a",
   "metadata": {},
   "outputs": [],
   "source": [
    "from sklearn.svm import SVC\n",
    "from sklearn.model_selection import train_test_split\n",
    "from sklearn.metrics import classification_report, accuracy_score"
   ]
  },
  {
   "cell_type": "code",
   "execution_count": 482,
   "id": "33475eaf-ee6f-4c14-b665-062a95a20ba7",
   "metadata": {},
   "outputs": [],
   "source": [
    "from sklearn.decomposition import PCA\n",
    "from sklearn.discriminant_analysis import LinearDiscriminantAnalysis as LDA"
   ]
  },
  {
   "cell_type": "markdown",
   "metadata": {},
   "source": [
    "Split data into test and train"
   ]
  },
  {
   "cell_type": "code",
   "execution_count": 483,
   "id": "a7d742e7-d037-46a3-9894-1f37441755ee",
   "metadata": {},
   "outputs": [],
   "source": [
    "X_train, X_test, y_train, y_test = train_test_split(X, y, test_size=0.2, random_state=0)\n",
    "from sklearn.preprocessing import StandardScaler\n",
    "sc = StandardScaler()\n",
    "X_train = sc.fit_transform(X_train)\n",
    "X_test = sc.transform(X_test)"
   ]
  },
  {
   "cell_type": "markdown",
   "metadata": {},
   "source": [
    "Dimentionality reduction using LDA"
   ]
  },
  {
   "cell_type": "code",
   "execution_count": 484,
   "id": "c2030f97-66b6-4e56-bfbe-82afbd0892de",
   "metadata": {},
   "outputs": [],
   "source": [
    "lda = LDA(n_components=2)\n",
    "X_train = lda.fit_transform(X_train, y_train)\n",
    "X_test = lda.transform(X_test)"
   ]
  },
  {
   "cell_type": "markdown",
   "metadata": {},
   "source": [
    "## Classification using SVM"
   ]
  },
  {
   "cell_type": "code",
   "execution_count": 485,
   "id": "36367c34-a99f-490b-ab68-ce897632672e",
   "metadata": {},
   "outputs": [
    {
     "name": "stdout",
     "output_type": "stream",
     "text": [
      "Accuracy: 0.6\n"
     ]
    }
   ],
   "source": [
    "svm_classifier = SVC(kernel='rbf', C=1.0)\n",
    "svm_classifier.fit(X_train, y_train)\n",
    "y_pred = svm_classifier.predict(X_test)\n",
    "#print(\"Classification Report:\\n\", classification_report(y_test, y_pred))\n",
    "print(\"Accuracy:\", accuracy_score(y_test, y_pred))"
   ]
  }
 ],
 "metadata": {
  "kernelspec": {
   "display_name": "Python 3 (ipykernel)",
   "language": "python",
   "name": "python3"
  },
  "language_info": {
   "codemirror_mode": {
    "name": "ipython",
    "version": 3
   },
   "file_extension": ".py",
   "mimetype": "text/x-python",
   "name": "python",
   "nbconvert_exporter": "python",
   "pygments_lexer": "ipython3",
   "version": "3.11.3"
  }
 },
 "nbformat": 4,
 "nbformat_minor": 5
}
